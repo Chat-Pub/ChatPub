{
 "cells": [
  {
   "cell_type": "code",
   "execution_count": 34,
   "metadata": {},
   "outputs": [],
   "source": [
    "import mysql.connector\n",
    "import sys\n",
    "from collections import defaultdict\n",
    "from tqdm import tqdm\n",
    "\n",
    "try:\n",
    "    conn = mysql.connector.connect(\n",
    "        user='root',\n",
    "        password='1234',\n",
    "        host='localhost',\n",
    "        port=3306,\n",
    "        database='ChatPub',\n",
    "    )\n",
    "except mysql.connector.Error as e:\n",
    "    print(f\"Error connecting to MariaDB Platform: {e}\")"
   ]
  },
  {
   "cell_type": "code",
   "execution_count": 36,
   "metadata": {},
   "outputs": [],
   "source": [
    "cur = conn.cursor()\n",
    "sql_file_path = \"./DDl/tables.sql\"\n",
    "with open(sql_file_path, \"r\") as sql_file:\n",
    "    sql_query = sql_file.read()\n",
    "sql_query = ['CREATE' + i for i in sql_query.split('CREATE')[1:]]\n",
    "for i in sql_query:\n",
    "    cur.execute(i)\n",
    "\n",
    "conn.commit()"
   ]
  },
  {
   "cell_type": "code",
   "execution_count": null,
   "metadata": {},
   "outputs": [],
   "source": []
  }
 ],
 "metadata": {
  "kernelspec": {
   "display_name": "Python 3",
   "language": "python",
   "name": "python3"
  },
  "language_info": {
   "codemirror_mode": {
    "name": "ipython",
    "version": 3
   },
   "file_extension": ".py",
   "mimetype": "text/x-python",
   "name": "python",
   "nbconvert_exporter": "python",
   "pygments_lexer": "ipython3",
   "version": "3.10.13"
  }
 },
 "nbformat": 4,
 "nbformat_minor": 2
}
